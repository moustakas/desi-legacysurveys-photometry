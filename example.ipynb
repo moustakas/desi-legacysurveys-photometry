{
 "cells": [
  {
   "cell_type": "markdown",
   "id": "65a619bb-fb68-4844-a92d-da848b1cf551",
   "metadata": {},
   "source": [
    "### Example of getting photometry."
   ]
  },
  {
   "cell_type": "markdown",
   "id": "7fdc9cd6-e2ef-4938-8194-9ac2e8fca576",
   "metadata": {},
   "source": [
    "As an example, to grab the photometry of your favorite, say, LRG targets observed in SV3, you would do something like the following (which we should of course put into a notebook):"
   ]
  },
  {
   "cell_type": "code",
   "execution_count": 1,
   "id": "a24b8df1-1750-47c5-b5a4-931bedd1031e",
   "metadata": {},
   "outputs": [],
   "source": [
    "import os\n",
    "import numpy as np\n",
    "import fitsio\n",
    "from glob import glob\n",
    "from astropy.table import Table, vstack"
   ]
  },
  {
   "cell_type": "code",
   "execution_count": 5,
   "id": "7c3891e9-dac8-4b1e-97b7-8d4cdf685f10",
   "metadata": {},
   "outputs": [
    {
     "data": {
      "text/plain": [
       "14.658075357087599"
      ]
     },
     "execution_count": 5,
     "metadata": {},
     "output_type": "execute_result"
    }
   ],
   "source": [
    "import healpy as hp\n",
    "hp.nside2resol(4, arcmin=True) / 60"
   ]
  },
  {
   "cell_type": "code",
   "execution_count": 2,
   "id": "bc73d7b1-6728-48d5-bc3d-fd0c42c92df7",
   "metadata": {},
   "outputs": [],
   "source": [
    "zcatdir = '/global/cfs/cdirs/desi/spectro/redux/fuji/zcatalog'\n",
    "photdir = '/global/cscratch1/sd/ioannis/photocatalog/fuji/tractorphot'"
   ]
  },
  {
   "cell_type": "code",
   "execution_count": null,
   "id": "10b5a2bf-8b0c-4b2a-af6e-073dbceb158f",
   "metadata": {},
   "outputs": [],
   "source": [
    "def get_tractorphot():\n",
    "    from desimodel.footprint import radec2pix\n",
    "    from desitarget.sv3.sv3_targetmask import desi_mask\n",
    "\n",
    "    zcat = Table(fitsio.read(os.path.join(zcatdir, 'ztile-sv3-dark-cumulative.fits'), 'ZCATALOG'))\n",
    "    I = (zcat['SV3_DESI_TARGET'] & desi_mask.mask('LRG') != 0) * (zcat['ZWARN'] == 0) * (zcat['Z'] > 0.7) * (zcat['Z'] < 0.701)\n",
    "    zcat = zcat[I]\n",
    "    print('Selected {} objects'.format(len(zcat)))\n",
    "\n",
    "    hdr = fitsio.read_header(glob(os.path.join(photdir, 'tractorphot-nside4-hp???-fuji.fits'))[0], 'TRACTORPHOT')\n",
    "    tractorphot_nside = hdr['FILENSID']\n",
    "\n",
    "    pixels = radec2pix(tractorphot_nside, zcat['TARGET_RA'], zcat['TARGET_DEC'])\n",
    "    phot = []\n",
    "    for pixel in set(pixels):\n",
    "        J = pixel == pixels\n",
    "        photfile = os.path.join(photdir, 'tractorphot-nside4-hp{:03d}-fuji.fits'.format(pixel))\n",
    "        targetids = fitsio.read(photfile, columns='TARGETID')\n",
    "        K = np.where(np.isin(targetids, zcat['TARGETID'][J]))[0]\n",
    "        print('Reading photometry for {} objects from {}'.format(len(K), photfile))\n",
    "        _phot = fitsio.read(photfile, rows=K)\n",
    "        phot.append(Table(_phot))\n",
    "    phot = vstack(phot)\n",
    "    srt = np.hstack([np.where(tid == phot['TARGETID'])[0] for tid in zcat['TARGETID']]) # better way to sort here??\n",
    "    phot = phot[srt]\n",
    "    return zcat, phot\n",
    "\n",
    ">>> zcat, phot = get_tractorphot()"
   ]
  }
 ],
 "metadata": {
  "kernelspec": {
   "display_name": "Python 3 (ipykernel)",
   "language": "python",
   "name": "python3"
  },
  "language_info": {
   "codemirror_mode": {
    "name": "ipython",
    "version": 3
   },
   "file_extension": ".py",
   "mimetype": "text/x-python",
   "name": "python",
   "nbconvert_exporter": "python",
   "pygments_lexer": "ipython3",
   "version": "3.8.12"
  }
 },
 "nbformat": 4,
 "nbformat_minor": 5
}
