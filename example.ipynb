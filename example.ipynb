{
 "cells": [
  {
   "cell_type": "markdown",
   "id": "65a619bb-fb68-4844-a92d-da848b1cf551",
   "metadata": {
    "tags": []
   },
   "source": [
    "### LS/DR9 Photometry for DESI/EDR\n",
    "\n",
    "This notebook briefly shows how to work with the LS/DR9 value-added catalogs for a small set of targets in the DESI Early Data Release (EDR).\n",
    "\n",
    "John Moustakas  \n",
    "Siena College  \n",
    "2022 June XX"
   ]
  },
  {
   "cell_type": "code",
   "execution_count": 2,
   "id": "a24b8df1-1750-47c5-b5a4-931bedd1031e",
   "metadata": {},
   "outputs": [],
   "source": [
    "import os\n",
    "import numpy as np\n",
    "import fitsio\n",
    "from glob import glob\n",
    "from astropy.table import Table, vstack"
   ]
  },
  {
   "cell_type": "code",
   "execution_count": 4,
   "id": "9bd9106f-1c52-4c9a-b96f-b6e3b494da23",
   "metadata": {},
   "outputs": [],
   "source": [
    "from desimodel.footprint import radec2pix\n",
    "from desitarget.sv3.sv3_targetmask import desi_mask"
   ]
  },
  {
   "cell_type": "markdown",
   "id": "04614de1-fc0b-47b6-a4b9-0abdb47423a6",
   "metadata": {},
   "source": [
    "#### Specify the location of the DESI/EDR redshift catalogs and the LS/DR9 VAC."
   ]
  },
  {
   "cell_type": "code",
   "execution_count": 3,
   "id": "bc73d7b1-6728-48d5-bc3d-fd0c42c92df7",
   "metadata": {},
   "outputs": [],
   "source": [
    "zcatdir = '/global/cfs/cdirs/desi/public/edr/spectro/redux/fuji/zcatalog'\n",
    "vacdir = '/global/cscratch1/sd/ioannis/lsdr9-photometry/v1.0'"
   ]
  },
  {
   "cell_type": "markdown",
   "id": "ec9c8903-874a-4326-829f-7634afcee062",
   "metadata": {},
   "source": [
    "#### Select a small number of LRG targets."
   ]
  },
  {
   "cell_type": "code",
   "execution_count": 5,
   "id": "5e33d444-60c1-477a-b5dd-6430b7a0eb16",
   "metadata": {},
   "outputs": [
    {
     "ename": "OSError",
     "evalue": "FITSIO status = 104: could not open the named file\nfailed to find or open the following file: (ffopen)\n/global/cfs/cdirs/desi/public/edr/spectro/redux/fuji/zcatalog/ztile-sv3-dark-cum\nulative.fits\n",
     "output_type": "error",
     "traceback": [
      "\u001b[0;31m---------------------------------------------------------------------------\u001b[0m",
      "\u001b[0;31mOSError\u001b[0m                                   Traceback (most recent call last)",
      "\u001b[0;32m/var/folders/r5/35zd2wl1281fzg88q92g76sc0000gq/T/ipykernel_35184/1747363830.py\u001b[0m in \u001b[0;36m<module>\u001b[0;34m\u001b[0m\n\u001b[0;32m----> 1\u001b[0;31m \u001b[0mzcat\u001b[0m \u001b[0;34m=\u001b[0m \u001b[0mTable\u001b[0m\u001b[0;34m(\u001b[0m\u001b[0mfitsio\u001b[0m\u001b[0;34m.\u001b[0m\u001b[0mread\u001b[0m\u001b[0;34m(\u001b[0m\u001b[0mos\u001b[0m\u001b[0;34m.\u001b[0m\u001b[0mpath\u001b[0m\u001b[0;34m.\u001b[0m\u001b[0mjoin\u001b[0m\u001b[0;34m(\u001b[0m\u001b[0mzcatdir\u001b[0m\u001b[0;34m,\u001b[0m \u001b[0;34m'ztile-sv3-dark-cumulative.fits'\u001b[0m\u001b[0;34m)\u001b[0m\u001b[0;34m,\u001b[0m \u001b[0;34m'ZCATALOG'\u001b[0m\u001b[0;34m)\u001b[0m\u001b[0;34m)\u001b[0m\u001b[0;34m\u001b[0m\u001b[0;34m\u001b[0m\u001b[0m\n\u001b[0m\u001b[1;32m      2\u001b[0m \u001b[0mI\u001b[0m \u001b[0;34m=\u001b[0m \u001b[0;34m(\u001b[0m\u001b[0mzcat\u001b[0m\u001b[0;34m[\u001b[0m\u001b[0;34m'SV3_DESI_TARGET'\u001b[0m\u001b[0;34m]\u001b[0m \u001b[0;34m&\u001b[0m \u001b[0mdesi_mask\u001b[0m\u001b[0;34m.\u001b[0m\u001b[0mmask\u001b[0m\u001b[0;34m(\u001b[0m\u001b[0;34m'LRG'\u001b[0m\u001b[0;34m)\u001b[0m \u001b[0;34m!=\u001b[0m \u001b[0;36m0\u001b[0m\u001b[0;34m)\u001b[0m \u001b[0;34m*\u001b[0m \u001b[0;34m(\u001b[0m\u001b[0mzcat\u001b[0m\u001b[0;34m[\u001b[0m\u001b[0;34m'ZWARN'\u001b[0m\u001b[0;34m]\u001b[0m \u001b[0;34m==\u001b[0m \u001b[0;36m0\u001b[0m\u001b[0;34m)\u001b[0m \u001b[0;34m*\u001b[0m \u001b[0;34m(\u001b[0m\u001b[0mzcat\u001b[0m\u001b[0;34m[\u001b[0m\u001b[0;34m'Z'\u001b[0m\u001b[0;34m]\u001b[0m \u001b[0;34m>\u001b[0m \u001b[0;36m0.7\u001b[0m\u001b[0;34m)\u001b[0m \u001b[0;34m*\u001b[0m \u001b[0;34m(\u001b[0m\u001b[0mzcat\u001b[0m\u001b[0;34m[\u001b[0m\u001b[0;34m'Z'\u001b[0m\u001b[0;34m]\u001b[0m \u001b[0;34m<\u001b[0m \u001b[0;36m0.701\u001b[0m\u001b[0;34m)\u001b[0m\u001b[0;34m\u001b[0m\u001b[0;34m\u001b[0m\u001b[0m\n\u001b[1;32m      3\u001b[0m \u001b[0mzcat\u001b[0m \u001b[0;34m=\u001b[0m \u001b[0mzcat\u001b[0m\u001b[0;34m[\u001b[0m\u001b[0mI\u001b[0m\u001b[0;34m]\u001b[0m\u001b[0;34m\u001b[0m\u001b[0;34m\u001b[0m\u001b[0m\n\u001b[1;32m      4\u001b[0m \u001b[0mprint\u001b[0m\u001b[0;34m(\u001b[0m\u001b[0;34m'Selected {} objects'\u001b[0m\u001b[0;34m.\u001b[0m\u001b[0mformat\u001b[0m\u001b[0;34m(\u001b[0m\u001b[0mlen\u001b[0m\u001b[0;34m(\u001b[0m\u001b[0mzcat\u001b[0m\u001b[0;34m)\u001b[0m\u001b[0;34m)\u001b[0m\u001b[0;34m)\u001b[0m\u001b[0;34m\u001b[0m\u001b[0;34m\u001b[0m\u001b[0m\n",
      "\u001b[0;32m~/opt/anaconda3/envs/desi/lib/python3.8/site-packages/fitsio/fitslib.py\u001b[0m in \u001b[0;36mread\u001b[0;34m(filename, ext, extver, columns, rows, header, case_sensitive, upper, lower, vstorage, verbose, trim_strings, **keys)\u001b[0m\n\u001b[1;32m    137\u001b[0m         \u001b[0mread_kwargs\u001b[0m\u001b[0;34m[\u001b[0m\u001b[0;34m'rows'\u001b[0m\u001b[0;34m]\u001b[0m \u001b[0;34m=\u001b[0m \u001b[0mrows\u001b[0m\u001b[0;34m\u001b[0m\u001b[0;34m\u001b[0m\u001b[0m\n\u001b[1;32m    138\u001b[0m \u001b[0;34m\u001b[0m\u001b[0m\n\u001b[0;32m--> 139\u001b[0;31m     \u001b[0;32mwith\u001b[0m \u001b[0mFITS\u001b[0m\u001b[0;34m(\u001b[0m\u001b[0mfilename\u001b[0m\u001b[0;34m,\u001b[0m \u001b[0;34m**\u001b[0m\u001b[0mkwargs\u001b[0m\u001b[0;34m)\u001b[0m \u001b[0;32mas\u001b[0m \u001b[0mfits\u001b[0m\u001b[0;34m:\u001b[0m\u001b[0;34m\u001b[0m\u001b[0;34m\u001b[0m\u001b[0m\n\u001b[0m\u001b[1;32m    140\u001b[0m \u001b[0;34m\u001b[0m\u001b[0m\n\u001b[1;32m    141\u001b[0m         \u001b[0;32mif\u001b[0m \u001b[0mext\u001b[0m \u001b[0;32mis\u001b[0m \u001b[0;32mNone\u001b[0m\u001b[0;34m:\u001b[0m\u001b[0;34m\u001b[0m\u001b[0;34m\u001b[0m\u001b[0m\n",
      "\u001b[0;32m~/opt/anaconda3/envs/desi/lib/python3.8/site-packages/fitsio/fitslib.py\u001b[0m in \u001b[0;36m__init__\u001b[0;34m(self, filename, mode, lower, upper, trim_strings, vstorage, case_sensitive, iter_row_buffer, write_bitcols, ignore_empty, verbose, clobber, **keys)\u001b[0m\n\u001b[1;32m    518\u001b[0m \u001b[0;34m\u001b[0m\u001b[0m\n\u001b[1;32m    519\u001b[0m         \u001b[0mself\u001b[0m\u001b[0;34m.\u001b[0m\u001b[0m_did_create\u001b[0m \u001b[0;34m=\u001b[0m \u001b[0;34m(\u001b[0m\u001b[0mcreate\u001b[0m \u001b[0;34m==\u001b[0m \u001b[0;36m1\u001b[0m\u001b[0;34m)\u001b[0m\u001b[0;34m\u001b[0m\u001b[0;34m\u001b[0m\u001b[0m\n\u001b[0;32m--> 520\u001b[0;31m         \u001b[0mself\u001b[0m\u001b[0;34m.\u001b[0m\u001b[0m_FITS\u001b[0m \u001b[0;34m=\u001b[0m \u001b[0m_fitsio_wrap\u001b[0m\u001b[0;34m.\u001b[0m\u001b[0mFITS\u001b[0m\u001b[0;34m(\u001b[0m\u001b[0mfilename\u001b[0m\u001b[0;34m,\u001b[0m \u001b[0mself\u001b[0m\u001b[0;34m.\u001b[0m\u001b[0mintmode\u001b[0m\u001b[0;34m,\u001b[0m \u001b[0mcreate\u001b[0m\u001b[0;34m)\u001b[0m\u001b[0;34m\u001b[0m\u001b[0;34m\u001b[0m\u001b[0m\n\u001b[0m\u001b[1;32m    521\u001b[0m \u001b[0;34m\u001b[0m\u001b[0m\n\u001b[1;32m    522\u001b[0m     \u001b[0;32mdef\u001b[0m \u001b[0mclose\u001b[0m\u001b[0;34m(\u001b[0m\u001b[0mself\u001b[0m\u001b[0;34m)\u001b[0m\u001b[0;34m:\u001b[0m\u001b[0;34m\u001b[0m\u001b[0;34m\u001b[0m\u001b[0m\n",
      "\u001b[0;31mOSError\u001b[0m: FITSIO status = 104: could not open the named file\nfailed to find or open the following file: (ffopen)\n/global/cfs/cdirs/desi/public/edr/spectro/redux/fuji/zcatalog/ztile-sv3-dark-cum\nulative.fits\n"
     ]
    }
   ],
   "source": [
    "zcat = Table(fitsio.read(os.path.join(zcatdir, 'ztile-sv3-dark-cumulative.fits'), 'ZCATALOG'))\n",
    "I = (zcat['SV3_DESI_TARGET'] & desi_mask.mask('LRG') != 0) * (zcat['ZWARN'] == 0) * (zcat['Z'] > 0.7) * (zcat['Z'] < 0.701)\n",
    "zcat = zcat[I]\n",
    "print('Selected {} objects'.format(len(zcat)))"
   ]
  },
  {
   "cell_type": "markdown",
   "id": "7fdc9cd6-e2ef-4938-8194-9ac2e8fca576",
   "metadata": {},
   "source": [
    "As an example, to grab the photometry of your favorite, say, LRG targets observed in SV3, you would do something like the following (which we should of course put into a notebook):"
   ]
  },
  {
   "cell_type": "code",
   "execution_count": 5,
   "id": "7c3891e9-dac8-4b1e-97b7-8d4cdf685f10",
   "metadata": {},
   "outputs": [
    {
     "data": {
      "text/plain": [
       "14.658075357087599"
      ]
     },
     "execution_count": 5,
     "metadata": {},
     "output_type": "execute_result"
    }
   ],
   "source": [
    "import healpy as hp\n",
    "hp.nside2resol(4, arcmin=True) / 60"
   ]
  },
  {
   "cell_type": "code",
   "execution_count": null,
   "id": "10b5a2bf-8b0c-4b2a-af6e-073dbceb158f",
   "metadata": {},
   "outputs": [],
   "source": [
    "def get_tractorphot():\n",
    "    from desimodel.footprint import radec2pix\n",
    "    from desitarget.sv3.sv3_targetmask import desi_mask\n",
    "\n",
    "    zcat = Table(fitsio.read(os.path.join(zcatdir, 'ztile-sv3-dark-cumulative.fits'), 'ZCATALOG'))\n",
    "    I = (zcat['SV3_DESI_TARGET'] & desi_mask.mask('LRG') != 0) * (zcat['ZWARN'] == 0) * (zcat['Z'] > 0.7) * (zcat['Z'] < 0.701)\n",
    "    zcat = zcat[I]\n",
    "    print('Selected {} objects'.format(len(zcat)))\n",
    "\n",
    "    hdr = fitsio.read_header(glob(os.path.join(photdir, 'tractorphot-nside4-hp???-fuji.fits'))[0], 'TRACTORPHOT')\n",
    "    tractorphot_nside = hdr['FILENSID']\n",
    "\n",
    "    pixels = radec2pix(tractorphot_nside, zcat['TARGET_RA'], zcat['TARGET_DEC'])\n",
    "    phot = []\n",
    "    for pixel in set(pixels):\n",
    "        J = pixel == pixels\n",
    "        photfile = os.path.join(photdir, 'tractorphot-nside4-hp{:03d}-fuji.fits'.format(pixel))\n",
    "        targetids = fitsio.read(photfile, columns='TARGETID')\n",
    "        K = np.where(np.isin(targetids, zcat['TARGETID'][J]))[0]\n",
    "        print('Reading photometry for {} objects from {}'.format(len(K), photfile))\n",
    "        _phot = fitsio.read(photfile, rows=K)\n",
    "        phot.append(Table(_phot))\n",
    "    phot = vstack(phot)\n",
    "    srt = np.hstack([np.where(tid == phot['TARGETID'])[0] for tid in zcat['TARGETID']]) # better way to sort here??\n",
    "    phot = phot[srt]\n",
    "    return zcat, phot\n",
    "\n",
    ">>> zcat, phot = get_tractorphot()"
   ]
  }
 ],
 "metadata": {
  "kernelspec": {
   "display_name": "Python 3 (ipykernel)",
   "language": "python",
   "name": "python3"
  },
  "language_info": {
   "codemirror_mode": {
    "name": "ipython",
    "version": 3
   },
   "file_extension": ".py",
   "mimetype": "text/x-python",
   "name": "python",
   "nbconvert_exporter": "python",
   "pygments_lexer": "ipython3",
   "version": "3.8.12"
  }
 },
 "nbformat": 4,
 "nbformat_minor": 5
}
