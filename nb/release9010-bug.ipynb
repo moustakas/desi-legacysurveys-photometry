{
 "cells": [
  {
   "cell_type": "markdown",
   "id": "62f73e4a-bdf2-45ed-aab0-b8f43d8d47ba",
   "metadata": {},
   "source": [
    "The goal of this notebook is to explore the bug documented in https://github.com/desihub/desispec/pull/2057.\n",
    "\n",
    "John Moustakas  \n",
    "Siena College  \n",
    "2023 June"
   ]
  },
  {
   "cell_type": "code",
   "execution_count": 1,
   "id": "ab42634e-02dd-4e79-98b4-f88f4b21de59",
   "metadata": {},
   "outputs": [],
   "source": [
    "import os\n",
    "import numpy as np\n",
    "import fitsio\n",
    "from glob import glob\n",
    "from astropy.coordinates import SkyCoord\n",
    "import astropy.units as u\n",
    "from astropy.table import Table, vstack, join\n",
    "from desitarget.targets import decode_targetid\n",
    "import matplotlib.pyplot as plt\n",
    "%matplotlib inline"
   ]
  },
  {
   "cell_type": "code",
   "execution_count": 2,
   "id": "9cb36abd-d676-464e-a0f5-f5e81d2f55a3",
   "metadata": {},
   "outputs": [],
   "source": [
    "default_vacdir = '/global/cfs/cdirs/desi/public/edr/vac/edr/lsdr9-photometry/fuji/v2.0/observed-targets'\n",
    "bugfix_vacdir = '/global/cfs/cdirs/desi/public/edr/vac/edr/lsdr9-photometry/fuji/v2.1/observed-targets'"
   ]
  },
  {
   "cell_type": "code",
   "execution_count": 3,
   "id": "3d5c9bdf-4441-4fd2-ad5c-5cc84f96561b",
   "metadata": {},
   "outputs": [],
   "source": [
    "targetphot = Table(fitsio.read(default_vacdir+'/targetphot-sv1-fuji.fits'))"
   ]
  },
  {
   "cell_type": "code",
   "execution_count": 4,
   "id": "dadf67ac-7674-44f2-aaf4-5791adfe90c2",
   "metadata": {},
   "outputs": [],
   "source": [
    "def read_tractorphot(zcat, racolumn='TARGET_RA', deccolumn='TARGET_DEC', verbose=False, vacdir=default_vacdir):\n",
    "    from glob import glob\n",
    "    from desimodel.footprint import radec2pix\n",
    "\n",
    "    tractorphotfiles = glob(os.path.join(vacdir, 'tractorphot', 'tractorphot-nside4-hp???-fuji.fits'))\n",
    "    \n",
    "    hdr = fitsio.read_header(tractorphotfiles[0], 'TRACTORPHOT')\n",
    "    tractorphot_nside = hdr['FILENSID']\n",
    "\n",
    "    pixels = radec2pix(tractorphot_nside, zcat[racolumn], zcat[deccolumn])\n",
    "    phot = []\n",
    "    for pixel in set(pixels):\n",
    "        J = pixel == pixels\n",
    "        photfile = os.path.join(vacdir, 'tractorphot', 'tractorphot-nside4-hp{:03d}-fuji.fits'.format(pixel))\n",
    "        if not os.path.isfile(photfile):\n",
    "            #print(f'Missing file {photfile}!')\n",
    "            continue\n",
    "        targetids = fitsio.read(photfile, columns='TARGETID')\n",
    "        K = np.where(np.isin(targetids, zcat['TARGETID'][J]))[0]\n",
    "        \n",
    "        if verbose:\n",
    "            print('Reading photometry for {} objects from {}'.format(len(K), photfile))\n",
    "            \n",
    "        _phot = fitsio.read(photfile, rows=K)\n",
    "        phot.append(Table(_phot))\n",
    "        \n",
    "    if len(phot) == 0:\n",
    "        return Table()\n",
    "        \n",
    "    phot = vstack(phot)\n",
    "\n",
    "    # Is there a better way to sort here??\n",
    "    srt = np.hstack([np.where(tid == phot['TARGETID'])[0] for tid in zcat['TARGETID']]) \n",
    "    phot = phot[srt]\n",
    "    \n",
    "    return phot"
   ]
  },
  {
   "cell_type": "code",
   "execution_count": 5,
   "id": "7972c8d3-06ca-4449-bf90-0414281d3309",
   "metadata": {},
   "outputs": [
    {
     "name": "stdout",
     "output_type": "stream",
     "text": [
      "80611 Nold=95/4198 (2.26%) Nnew=0/4198 (0.00%)\n",
      "80612 Nold=62/4199 (1.48%) Nnew=0/4199 (0.00%)\n",
      "80616 Nold=210/4193 (5.01%) Nnew=0/4193 (0.00%)\n"
     ]
    }
   ],
   "source": [
    "#for tileid in [80611]:\n",
    "for tileid in sorted(np.unique(targetphot['TILEID'])):\n",
    "    #print(tileid)\n",
    "    I = np.where(tileid == targetphot['TILEID'])[0]\n",
    "    old = read_tractorphot(targetphot[I], racolumn='RA', deccolumn='DEC', vacdir=default_vacdir)\n",
    "    new = read_tractorphot(targetphot[I], racolumn='RA', deccolumn='DEC', vacdir=bugfix_vacdir)\n",
    "    \n",
    "    # not all targets have tractor photometry (e.g., secondary targets)\n",
    "    # and some tiles (e.g., 80715) have no photometry at all\n",
    "    if len(old) == 0:\n",
    "        continue\n",
    "\n",
    "    keep = np.isin(targetphot[I]['TARGETID'], old['TARGETID'])\n",
    "    #if np.sum(keep) != len(I):\n",
    "    #    print('TileID {}: ignoring {}/{} targets with no Tractor photometry'.format(\n",
    "    #        tileid, len(I)-np.sum(keep), len(I)))\n",
    "    targetphot_ontile = targetphot[I][keep]\n",
    "    targetphot_coord = SkyCoord(targetphot_ontile['RA']*u.degree, targetphot_ontile['DEC']*u.degree, frame='icrs')    \n",
    "    \n",
    "    old_coord = SkyCoord(old['RA']*u.degree, old['DEC']*u.degree, frame='icrs')\n",
    "    new_coord = SkyCoord(new['RA']*u.degree, new['DEC']*u.degree, frame='icrs')    \n",
    "\n",
    "    sep_old = old_coord.separation(targetphot_coord)\n",
    "    sep_new = new_coord.separation(targetphot_coord)\n",
    "    \n",
    "    O = np.where(sep_old.arcsec >= 1.0)[0]\n",
    "    N = np.where(sep_new.arcsec >= 1.0)[0]\n",
    "    \n",
    "    if len(O) > 0 or len(N) > 0:\n",
    "        print('{} Nold={}/{} ({:.2f}%) Nnew={}/{} ({:.2f}%)'.format(# [{}/{} targets with no DR9 photometry]'.format(\n",
    "            tileid, len(O), len(old), 100*len(O)/len(old), len(N), len(new), 100*len(N)/len(new)))#,\n",
    "            #len(I)-np.sum(keep), len(I)))\n",
    "    \n",
    "    if len(O) > 0:\n",
    "        out_old = join(targetphot_ontile[O]['TARGETID', 'RA', 'DEC', 'RELEASE', 'BRICKNAME', 'BRICKID', 'BRICK_OBJID'],\n",
    "                       old[O]['TARGETID', 'RA', 'DEC', 'RELEASE', 'BRICKNAME', 'BRICKID', 'OBJID', 'LS_ID'],\n",
    "                       keys='TARGETID', table_names=['TARGETPHOT', 'LSDR9'])\n",
    "    \n",
    "    #if len(N) > 0:\n",
    "    #lsid_new = (new[N]['RELEASE'].astype(np.int64) << 40) | (new[N]['BRICKID'].astype(np.int64) << 16) | (new[N]['OBJID'].astype(np.int64))\n",
    "    out_new = join(targetphot_ontile['TARGETID', 'RA', 'DEC', 'RELEASE', 'BRICKNAME', 'BRICKID', 'BRICK_OBJID'],\n",
    "                   new['TARGETID', 'RA', 'DEC', 'RELEASE', 'BRICKNAME', 'BRICKID', 'OBJID', 'LS_ID'],\n",
    "                   keys='TARGETID', table_names=['TARGETPHOT', 'LSDR9'])"
   ]
  },
  {
   "cell_type": "code",
   "execution_count": 6,
   "id": "b4da8d6f-76fd-4082-87a4-e7060dc35330",
   "metadata": {},
   "outputs": [
    {
     "data": {
      "text/html": [
       "<div><i>Table length=0</i>\n",
       "<table id=\"table140279353529520\" class=\"table-striped table-bordered table-condensed\">\n",
       "<thead><tr><th>TARGETID</th><th>RA_TARGETPHOT</th><th>DEC_TARGETPHOT</th><th>RELEASE_TARGETPHOT</th><th>BRICKNAME_TARGETPHOT</th><th>BRICKID_TARGETPHOT</th><th>BRICK_OBJID</th><th>RA_LSDR9</th><th>DEC_LSDR9</th><th>RELEASE_LSDR9</th><th>BRICKNAME_LSDR9</th><th>BRICKID_LSDR9</th><th>OBJID</th><th>LS_ID</th></tr></thead>\n",
       "<thead><tr><th>int64</th><th>float64</th><th>float64</th><th>int16</th><th>str8</th><th>int32</th><th>int32</th><th>float64</th><th>float64</th><th>int16</th><th>str8</th><th>int32</th><th>int32</th><th>int64</th></tr></thead>\n",
       "</table></div>"
      ],
      "text/plain": [
       "<Table length=0>\n",
       "TARGETID RA_TARGETPHOT DEC_TARGETPHOT ... BRICKID_LSDR9 OBJID LS_ID\n",
       " int64      float64       float64     ...     int32     int32 int64\n",
       "-------- ------------- -------------- ... ------------- ----- -----"
      ]
     },
     "execution_count": 6,
     "metadata": {},
     "output_type": "execute_result"
    }
   ],
   "source": [
    "out_old[out_old['TARGETID'] == 39628509856928374]"
   ]
  },
  {
   "cell_type": "code",
   "execution_count": 7,
   "id": "27095ddb-1210-4da6-9b2d-211e128789ba",
   "metadata": {},
   "outputs": [
    {
     "data": {
      "text/html": [
       "<div><i>Table length=0</i>\n",
       "<table id=\"table140279353530048\" class=\"table-striped table-bordered table-condensed\">\n",
       "<thead><tr><th>TARGETID</th><th>RA_TARGETPHOT</th><th>DEC_TARGETPHOT</th><th>RELEASE_TARGETPHOT</th><th>BRICKNAME_TARGETPHOT</th><th>BRICKID_TARGETPHOT</th><th>BRICK_OBJID</th><th>RA_LSDR9</th><th>DEC_LSDR9</th><th>RELEASE_LSDR9</th><th>BRICKNAME_LSDR9</th><th>BRICKID_LSDR9</th><th>OBJID</th><th>LS_ID</th></tr></thead>\n",
       "<thead><tr><th>int64</th><th>float64</th><th>float64</th><th>int16</th><th>str8</th><th>int32</th><th>int32</th><th>float64</th><th>float64</th><th>int16</th><th>str8</th><th>int32</th><th>int32</th><th>int64</th></tr></thead>\n",
       "</table></div>"
      ],
      "text/plain": [
       "<Table length=0>\n",
       "TARGETID RA_TARGETPHOT DEC_TARGETPHOT ... BRICKID_LSDR9 OBJID LS_ID\n",
       " int64      float64       float64     ...     int32     int32 int64\n",
       "-------- ------------- -------------- ... ------------- ----- -----"
      ]
     },
     "execution_count": 7,
     "metadata": {},
     "output_type": "execute_result"
    }
   ],
   "source": [
    "out_new[out_new['TARGETID'] == 39628509856928374]"
   ]
  }
 ],
 "metadata": {
  "kernelspec": {
   "display_name": "DESI 23.1",
   "language": "python",
   "name": "desi-23.1"
  },
  "language_info": {
   "codemirror_mode": {
    "name": "ipython",
    "version": 3
   },
   "file_extension": ".py",
   "mimetype": "text/x-python",
   "name": "python",
   "nbconvert_exporter": "python",
   "pygments_lexer": "ipython3",
   "version": "3.10.8"
  }
 },
 "nbformat": 4,
 "nbformat_minor": 5
}
